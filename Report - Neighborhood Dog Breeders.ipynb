{
    "cells": [
        {
            "cell_type": "markdown",
            "metadata": {
                "collapsed": true
            },
            "source": "# Battle of the Neighborhoods: Dog Breeders!"
        },
        {
            "cell_type": "markdown",
            "metadata": {},
            "source": "## Introduction: Business Problem"
        },
        {
            "cell_type": "markdown",
            "metadata": {},
            "source": "The stakeholders in question are dog breeders looking to move to a neighborhood in San Francisco out of which to breed, sell, and care for beagles. Beagles are a social breed that require plenty of exercise as well as face-to-face time with other dogs. The client wants to move to a neighborhood where there are pet stores nearby so it's easy to provide for their dogs, as well as many open-air public spaces where the dogs can socialize and get their daily exercise.\n\nThe ideal neighborhood will have an even balance of all these characteristics so the breeders can give the beagles adequate stimulation while they raise them as well as \"advertise\" their dogs to locals when they take them for walks. Adopting their dogs out locally will also assure that potential owners will have access to the same facilities  as the breeders that are necessary for caring for the dog."
        },
        {
            "cell_type": "markdown",
            "metadata": {},
            "source": "## Data"
        },
        {
            "cell_type": "markdown",
            "metadata": {},
            "source": "This project's objective is to find the ideal neighborhood into which the beagle breeders can set up their business. The data required will come from multiple sources as follows:"
        },
        {
            "cell_type": "markdown",
            "metadata": {},
            "source": "#### OpenDataSoft + HealthySF"
        },
        {
            "cell_type": "markdown",
            "metadata": {},
            "source": "San Francisco is composed of a number of neighborhoods associated with a given zip code. HealthySF has a list of the names of these neighborhoods by zip, and OpenDataSoft has a data set that indexes each zip code in the US to its latitude and longitude, which can be used to map these neighborhoods."
        },
        {
            "cell_type": "markdown",
            "metadata": {},
            "source": "#### Foursquare API"
        },
        {
            "cell_type": "markdown",
            "metadata": {},
            "source": "We will use Foursquare's venue data to determine the number of dog-friendly venues near a given neighborhood."
        },
        {
            "cell_type": "markdown",
            "metadata": {},
            "source": "## Methodology"
        },
        {
            "cell_type": "markdown",
            "metadata": {},
            "source": "### Dataframe Creation"
        },
        {
            "cell_type": "markdown",
            "metadata": {},
            "source": "The data was scraped from healthySF.com and concatenated with a dataset from OpenDataSoft to create a dataframe with zip code, city name, and location by longitude and latitude. We dropped columns containing information on the zip code's population in 2000, whether it practiced Daylight Savings Time, and which state the city was in (since they were all California)."
        },
        {
            "cell_type": "markdown",
            "metadata": {},
            "source": "We used Folium to visualize a map of San Francisco with its neighborhoods represented as dots, then used Foursquare's API to call venues within two and a half miles of each neighborhood (assuming that SF's public transit made such a distance trivial to travel). We then created a function to read all such nearby venues into a dataframe, which we then cleaned to only include dog-friendly venues such as outdoor food areas, parks, and pet stores."
        },
        {
            "cell_type": "markdown",
            "metadata": {},
            "source": "After reviewing the top 5 venues in each neighborhood, we manually excised neighborhoods that contained two or fewer types of venues of interest, since beagles are a particularly rambunctious breed of dog that require variety to be properly stimulated as puppies. We clustered the remaining neighborhood using k-means and mapped them again, showing that the remaining venues were all located on the east side of San Francisco, closer to the tourist district."
        },
        {
            "cell_type": "markdown",
            "metadata": {},
            "source": "Since we had colored each of the cluster groups differently, we could see 3 standout neighborhoods and two sets nearest the central hub. On examining the clusters in separate data frames, we could see that the 3 standouts were closer to residential and suburban areas and, while featuring more parks and playgrounds, were not as close to pet stores or open-air venues that expected a lot of traffic."
        },
        {
            "cell_type": "markdown",
            "metadata": {},
            "source": "## Results"
        },
        {
            "cell_type": "markdown",
            "metadata": {},
            "source": "This map makes it clear that the neighborhoods we eliminated for not having enough variety in dog-friendly venues were all on the west side of San Francisco, further from the tourist district.\n\nWe can see that the yellow and green clusters on the map mostly have parks as a prominent feature. Additionally, the green cluster appears to feature a wealth of outdoor venues with with it might be possible to visit with a dog.\n\nSunnydale is furthest from the tourist district and appears to have more residential landmars near it, as does Noe Valley. Twin Peaks is close to a plaza, but seems similarly sterile. Both the yellow and green clusters have ready access to a pet store, which is important for ease of keeping the dogs fed."
        },
        {
            "cell_type": "markdown",
            "metadata": {},
            "source": "## Discussion"
        },
        {
            "cell_type": "markdown",
            "metadata": {},
            "source": "It seems that both the yellow and green clusters are located closest to the tourist areas of San Francisco, where our dog breeder stakeholders can easily socialize their dogs and advertise them to visiting tourists and locals alike. This makes them both ideal for setting up shop. Critically, the clusters closest to Chinatown and Japantown feature parks, open-air venues, and a pet store. This makes Chinatown and Japantown the optimal neighborhoods into which to move to maximize our stakeholders' resources to care for the dogs as well as to expose the dogs to enough foot traffic to increase their likelihood of being adopted."
        },
        {
            "cell_type": "markdown",
            "metadata": {},
            "source": "## Conclusion"
        },
        {
            "cell_type": "markdown",
            "metadata": {},
            "source": "The purpose of this project was to determine the best neighborhood in San Francisco in which to set up a dog breeding business for beagles. Given beagles' need for activity and socialization, we tried to find desirable neighborhoods by looking for neighborhoods near places with parks and open-air venues where the beagles could get activity, socialize with people, and meet potential new owners. We also tried to find nearby pet stores to make it easier to get the resources necessary to care for each dog. After creating a dataframe containing neighborhoods' zip codes and location, we used the Foursquare API to call nearby venues, then cleaned the dataframe to include only the dog-friendly ones. We also eliminated venues with limited variety of venues since the dogs and the owners benefit from variation. Finally, we clustered the remaining neighborhoods by similar characteristics and mapped them, revealing that the neighborhoods with variety were in the east bay, which is closer to tourist districts. Two clusters showed proximity to many open-air venues. Chinatown showed that it encompassed two zip codes in different clusters, and featured additional proximity to a pet store, which would be useful for furnishing the beagles with necessary toys, food, and bedding. We concluded that Chinatown is the best place to set up a dog-breeding business in San Francisco."
        }
    ],
    "metadata": {
        "kernelspec": {
            "display_name": "Python 3.6",
            "language": "python",
            "name": "python3"
        },
        "language_info": {
            "codemirror_mode": {
                "name": "ipython",
                "version": 3
            },
            "file_extension": ".py",
            "mimetype": "text/x-python",
            "name": "python",
            "nbconvert_exporter": "python",
            "pygments_lexer": "ipython3",
            "version": "3.6.9"
        }
    },
    "nbformat": 4,
    "nbformat_minor": 1
}