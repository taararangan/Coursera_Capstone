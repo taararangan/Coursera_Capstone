{
    "cells": [
        {
            "cell_type": "markdown",
            "metadata": {
                "collapsed": true
            },
            "source": "# Battle of the Neighborhoods: Dog Breeders!"
        },
        {
            "cell_type": "markdown",
            "metadata": {},
            "source": "## Introduction"
        },
        {
            "cell_type": "markdown",
            "metadata": {},
            "source": "### Location Background"
        },
        {
            "cell_type": "markdown",
            "metadata": {},
            "source": "Santa Ana is the fourth most densely-populated city in the United States, as well as the fourth safest. Additionally, for those sun-lovers and tanning enthusiasts, it gets 279 days of sun per year, and temperatures rarely drop below 45 degrees Farenheit even in December. With its closeness to John-Wayne Airport, the Santa Ana freeway, and the beach, it's a perfect place to raise a family. With an average household size of 4.3 and over half of houses being owned by at least one married couple, dog breeders have taken an interest in setting up their business somewhere within the city to get those families the forever friend that would complete their household."
        },
        {
            "cell_type": "markdown",
            "metadata": {},
            "source": "### Business Problem"
        },
        {
            "cell_type": "markdown",
            "metadata": {},
            "source": "The clients in question are beagle breeders looking to buy a home in Santa Ana out of which to breed, sell, and care for beagles. Beagles are a social breed that require plenty of exercise as well as face-to-face time with other dogs. They get along extremely well with children, and prefer households with multiple people so they don't feel lonely. The client wants to move to a neighborhood where:\n* the household size is large\n    * (so the beagles have company)\n* the mean age is low\n    * (so the owners have energy)\n* there are multiple parks and/or beaches\n    * (so the beagles have places they can run around/meet other dogs)\n* there are plenty of veterinarians\n    * (so it's clear that the beagles will be cared for and that there are other pets in the area)\n* there are groomers\n    * (so the owners can pamper the beagles)\n\nThe ideal neighborhood will have an even balance of all these characteristics so the breeders give the beagles adequate stimulation while they raise them and be assured that local owners will also have access to facilities necessary for caring for the dog."
        },
        {
            "cell_type": "markdown",
            "metadata": {},
            "source": "## Data"
        },
        {
            "cell_type": "markdown",
            "metadata": {},
            "source": "This project's objective is to find the ideal neighborhood into which the beagle breeders can set up their business. The data required will come from multiple sources as follows:\n* Movoto statistics\n    * Santa Ana neighborhood names and demographics\n* Geocoder package\n    * Latitude and Longitude of Santa Ana neighborhoods\n* Foursquare API\n    * Venue data to locate parks, beaches, veterinary hospitals, and groomers "
        },
        {
            "cell_type": "markdown",
            "metadata": {},
            "source": "### Movoto Statistics"
        },
        {
            "cell_type": "markdown",
            "metadata": {},
            "source": "As a real estate resource, Movoto uses IDX to maintain up-to-date information on neighborhood demographics and environmental health (including air quality and frequency of natural disasters). We will use Movoto to obtain the names and demographics of Santa Ana neighborhoods. Data is not in a form adequate for analysis, so data is placed manually in columns using Python to generate the dataframe."
        },
        {
            "cell_type": "markdown",
            "metadata": {},
            "source": "### Geocoder package"
        },
        {
            "cell_type": "markdown",
            "metadata": {},
            "source": "Rather than looking up the latitude and longitude of each neighborhood's epicenter, we will use Geocoder with Python to append a column to the dataframe constructed of Movoto data above to establish those locations."
        },
        {
            "cell_type": "markdown",
            "metadata": {},
            "source": "### Foursquare API"
        },
        {
            "cell_type": "markdown",
            "metadata": {},
            "source": "Finally, we will use Foursquare's venue data to determine the number of parks, beaches, veterinary hospitals, and groomers closest to each neighborhood, and cluster each neighborhood using k-means clustering."
        },
        {
            "cell_type": "markdown",
            "metadata": {},
            "source": "### Folium"
        },
        {
            "cell_type": "markdown",
            "metadata": {},
            "source": "Finally, we will use Folium to generate a map of the Santa Ana area that notes similar neighborhoods with color-coding, and analyze the resulting data to determine the best neighborhoods in which the beagles breeders should set up their business."
        }
    ],
    "metadata": {
        "kernelspec": {
            "display_name": "Python 3.6",
            "language": "python",
            "name": "python3"
        },
        "language_info": {
            "codemirror_mode": {
                "name": "ipython",
                "version": 3
            },
            "file_extension": ".py",
            "mimetype": "text/x-python",
            "name": "python",
            "nbconvert_exporter": "python",
            "pygments_lexer": "ipython3",
            "version": "3.6.9"
        }
    },
    "nbformat": 4,
    "nbformat_minor": 1
}